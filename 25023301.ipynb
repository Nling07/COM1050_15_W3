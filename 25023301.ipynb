{
 "cells": [
  {
   "cell_type": "markdown",
   "id": "9ea02f99-d5a9-444d-a425-3d999f0bed01",
   "metadata": {},
   "source": [
    "## W3A4"
   ]
  },
  {
   "cell_type": "code",
   "execution_count": 51,
   "id": "a06eaecb-905a-4205-8290-341fbacc5dcb",
   "metadata": {},
   "outputs": [
    {
     "name": "stdin",
     "output_type": "stream",
     "text": [
      " 5 6\n"
     ]
    },
    {
     "name": "stdout",
     "output_type": "stream",
     "text": [
      "0\n"
     ]
    }
   ],
   "source": [
    "import math\n",
    "m , n = input().split()\n",
    "print(math.floor(int(m)/int(n)))"
   ]
  },
  {
   "cell_type": "markdown",
   "id": "2da2deff-3210-451a-8eed-306693505876",
   "metadata": {},
   "source": [
    "## W3A5"
   ]
  },
  {
   "cell_type": "code",
   "execution_count": 2,
   "id": "51a96c69-c1cc-4f99-9a24-dbc317b3d02d",
   "metadata": {},
   "outputs": [
    {
     "name": "stdin",
     "output_type": "stream",
     "text": [
      " 5 4\n"
     ]
    },
    {
     "name": "stdout",
     "output_type": "stream",
     "text": [
      "2\n"
     ]
    }
   ],
   "source": [
    "import math\n",
    "m , n = input().split()\n",
    "print(math.ceil(int(m)/int(n)))"
   ]
  },
  {
   "cell_type": "markdown",
   "id": "4aee4451-9360-4927-877e-35410891baea",
   "metadata": {},
   "source": [
    "## W3A6"
   ]
  },
  {
   "cell_type": "code",
   "execution_count": 25,
   "id": "07ce2a6a-628e-4f45-87b9-e0b3c3f22131",
   "metadata": {},
   "outputs": [
    {
     "name": "stdin",
     "output_type": "stream",
     "text": [
      " 3\n"
     ]
    },
    {
     "name": "stdout",
     "output_type": "stream",
     "text": [
      "Odd\n"
     ]
    }
   ],
   "source": [
    "x = int(input())\n",
    "if x % 2==0:\n",
    "    print('Even')\n",
    "else:\n",
    "    print('Odd')"
   ]
  },
  {
   "cell_type": "markdown",
   "id": "f233b374-70fc-499b-bf03-48e3f4e3f690",
   "metadata": {},
   "source": [
    "## W3A7"
   ]
  },
  {
   "cell_type": "code",
   "execution_count": 26,
   "id": "3baa056f-e085-43bf-b503-429d25e93ec0",
   "metadata": {},
   "outputs": [
    {
     "name": "stdin",
     "output_type": "stream",
     "text": [
      " 2 3\n"
     ]
    },
    {
     "name": "stdout",
     "output_type": "stream",
     "text": [
      "No\n"
     ]
    }
   ],
   "source": [
    "a , b = input().split()\n",
    "if int(a) <0 and int(b) <0:\n",
    "    print('Yes')\n",
    "else:\n",
    "    print('No')"
   ]
  },
  {
   "cell_type": "markdown",
   "id": "dd26e833-7f66-4c84-8713-4e48a7d03586",
   "metadata": {},
   "source": [
    "## W3A8"
   ]
  },
  {
   "cell_type": "code",
   "execution_count": 27,
   "id": "0bfd2b3e-5074-49c3-878c-93c0cd233b3a",
   "metadata": {},
   "outputs": [
    {
     "name": "stdin",
     "output_type": "stream",
     "text": [
      " 3\n",
      " asdf\n"
     ]
    },
    {
     "name": "stdout",
     "output_type": "stream",
     "text": [
      "False\n"
     ]
    }
   ],
   "source": [
    "a = input()\n",
    "b = input()\n",
    "if len(a) > len(b):\n",
    "    print('True')\n",
    "else:\n",
    "    print('False')"
   ]
  },
  {
   "cell_type": "markdown",
   "id": "a39055ab-41e0-4771-8977-9e4074d896a5",
   "metadata": {},
   "source": [
    "## W3A9"
   ]
  },
  {
   "cell_type": "code",
   "execution_count": 24,
   "id": "4433c53b-126d-48f2-82bb-0016b5c81905",
   "metadata": {},
   "outputs": [
    {
     "name": "stdin",
     "output_type": "stream",
     "text": [
      " 1 2 3\n"
     ]
    },
    {
     "name": "stdout",
     "output_type": "stream",
     "text": [
      "No\n"
     ]
    }
   ],
   "source": [
    "a, b, c = map(int , input().split())\n",
    "if a + b > c and a + c > b and c +b > a:\n",
    "    print('Yes')\n",
    "else:\n",
    "    print('No')"
   ]
  },
  {
   "cell_type": "markdown",
   "id": "8c894535-e468-4dcf-b902-4f8e14d2e03a",
   "metadata": {},
   "source": [
    "## W3A10"
   ]
  },
  {
   "cell_type": "code",
   "execution_count": null,
   "id": "a8a143eb-7bf6-4d7a-b670-ca763ff93bfe",
   "metadata": {},
   "outputs": [],
   "source": [
    "A = list(map(int, input().split()))\n",
    "print(max(A))"
   ]
  },
  {
   "cell_type": "markdown",
   "id": "f2aa65a7-81ae-4ac3-946d-b80a233e549c",
   "metadata": {},
   "source": [
    "## W3A11"
   ]
  },
  {
   "cell_type": "code",
   "execution_count": 28,
   "id": "fe486bfb-d1ca-4f3e-9366-26afcbb8248b",
   "metadata": {},
   "outputs": [
    {
     "name": "stdin",
     "output_type": "stream",
     "text": [
      " 3 3 3\n"
     ]
    },
    {
     "name": "stdout",
     "output_type": "stream",
     "text": [
      "Tam giác đều\n"
     ]
    }
   ],
   "source": [
    "a, b, c = map(int , input().split())\n",
    "if a + b > c and a + c > b and c +b > a:\n",
    "    if a == b == c:\n",
    "        print('Tam giác đều')\n",
    "    elif a == b or a == c or b == c:\n",
    "        print('Tam giác cân')\n",
    "    else:\n",
    "        print('Tam giác thường')\n",
    "else:\n",
    "    print('Không phải tam giác')"
   ]
  },
  {
   "cell_type": "markdown",
   "id": "a3c3791a-54e8-413b-b265-b0a6e1089409",
   "metadata": {},
   "source": [
    "## W3A12"
   ]
  },
  {
   "cell_type": "code",
   "execution_count": null,
   "id": "6fe30850-e16a-4443-ad67-7029bcf2a94e",
   "metadata": {},
   "outputs": [],
   "source": [
    "n = int(input())\n",
    "if n % 4 == 0 and n % 100 != 0:\n",
    "    print('Yes')\n",
    "elif n % 400 == 0:\n",
    "    print('Yes')\n",
    "else:\n",
    "    print('No')"
   ]
  },
  {
   "cell_type": "markdown",
   "id": "8e049c78-cf62-4fbd-b14a-7eb8ab7a4e87",
   "metadata": {},
   "source": [
    "## W3A13"
   ]
  },
  {
   "cell_type": "markdown",
   "id": "73a0e496-dff2-4668-a261-866ce6d173d0",
   "metadata": {},
   "source": [
    "không có đề bài"
   ]
  },
  {
   "cell_type": "markdown",
   "id": "7f901a10-d2c2-49a7-bfbf-2a1ced1737cd",
   "metadata": {},
   "source": [
    "## W3A14"
   ]
  },
  {
   "cell_type": "code",
   "execution_count": 34,
   "id": "ca01a106-8f33-4e02-a73c-d3dcd402fb3a",
   "metadata": {},
   "outputs": [
    {
     "name": "stdin",
     "output_type": "stream",
     "text": [
      " 0 1\n"
     ]
    },
    {
     "name": "stdout",
     "output_type": "stream",
     "text": [
      "Vô nghiệm\n"
     ]
    }
   ],
   "source": [
    "a, b = map(int, input().split())\n",
    "if a == b == 0:\n",
    "    print('Vô số nghiệm')\n",
    "elif a == 0 and b!= 0:\n",
    "    print('Vô nghiệm')\n",
    "else:\n",
    "    x = (-b) / a\n",
    "    print( f\"{x:.2}\")"
   ]
  },
  {
   "cell_type": "markdown",
   "id": "daa6380e-afea-4847-82f5-8493b483ff3d",
   "metadata": {},
   "source": [
    "## W3A15"
   ]
  },
  {
   "cell_type": "code",
   "execution_count": 49,
   "id": "ad0a6f28-d8f7-4e48-aa3b-cbfa5e13184f",
   "metadata": {},
   "outputs": [
    {
     "name": "stdin",
     "output_type": "stream",
     "text": [
      " 4.7\n"
     ]
    },
    {
     "name": "stdout",
     "output_type": "stream",
     "text": [
      "Yếu\n"
     ]
    }
   ],
   "source": [
    "n = float(input())\n",
    "if n >= 0 and n <=10:\n",
    "    if n >= 8:\n",
    "        print('Giỏi')\n",
    "    elif n >= 6.5:\n",
    "        print('Khá')\n",
    "    elif n >= 5:\n",
    "        print('Trung bình')\n",
    "    else:\n",
    "        print('Yếu')\n",
    "else:\n",
    "    print('Invalid')"
   ]
  },
  {
   "cell_type": "markdown",
   "id": "c314ab71-beb0-42ed-94a9-b3aca12a7902",
   "metadata": {},
   "source": [
    "## W3A16"
   ]
  },
  {
   "cell_type": "code",
   "execution_count": 37,
   "id": "35098afd-926a-407c-8595-46930c93fda2",
   "metadata": {},
   "outputs": [
    {
     "name": "stdin",
     "output_type": "stream",
     "text": [
      " 3.4\n"
     ]
    },
    {
     "name": "stdout",
     "output_type": "stream",
     "text": [
      "4 3 3\n"
     ]
    }
   ],
   "source": [
    "n = float(input())\n",
    "a = int(n)\n",
    "if n < 0:\n",
    "    b = -1\n",
    "else:\n",
    "    b = 1\n",
    "x = n - a\n",
    "if x >= 0.5:\n",
    "    print(a+b ,a , a+b)\n",
    "else:\n",
    "    print(a+b, a, a)"
   ]
  },
  {
   "cell_type": "markdown",
   "id": "a5a8215c-3f74-49b4-94d9-61c7bdc1ed25",
   "metadata": {},
   "source": [
    "## W3A17"
   ]
  },
  {
   "cell_type": "code",
   "execution_count": 46,
   "id": "279e105e-d9b3-4ac2-a8f9-27b8db84497f",
   "metadata": {},
   "outputs": [
    {
     "name": "stdin",
     "output_type": "stream",
     "text": [
      " 2 4 8 16\n"
     ]
    },
    {
     "name": "stdout",
     "output_type": "stream",
     "text": [
      "Yes\n"
     ]
    }
   ],
   "source": [
    "a, b, c, d = map(float, input().split())\n",
    "q = b / a # Đề bài gợi ý b chia hết cho a nhưng cấp số nhân có thể có công bội là số thập phân nên k cần chia hết, k phải chatGPT nhé thầy :Đ\n",
    "if b * q == c and c*q == d:\n",
    "    print('Yes')\n",
    "else:\n",
    "    print('No')"
   ]
  }
 ],
 "metadata": {
  "kernelspec": {
   "display_name": "Python 3 (ipykernel)",
   "language": "python",
   "name": "python3"
  },
  "language_info": {
   "codemirror_mode": {
    "name": "ipython",
    "version": 3
   },
   "file_extension": ".py",
   "mimetype": "text/x-python",
   "name": "python",
   "nbconvert_exporter": "python",
   "pygments_lexer": "ipython3",
   "version": "3.13.5"
  }
 },
 "nbformat": 4,
 "nbformat_minor": 5
}
